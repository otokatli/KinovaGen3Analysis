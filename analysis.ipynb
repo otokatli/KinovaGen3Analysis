{
 "cells": [
  {
   "cell_type": "markdown",
   "id": "02b4044e-a11a-4367-acd8-a63e5ac39203",
   "metadata": {},
   "source": [
    "# Kinova Gen3 Kinematic and Dynamic Analysis"
   ]
  },
  {
   "cell_type": "code",
   "execution_count": 1,
   "id": "107504fe-1f18-4479-a9b4-6d0e6c7a9557",
   "metadata": {},
   "outputs": [],
   "source": [
    "import os\n",
    "from pathlib import Path\n",
    "from sympy import diff, Matrix, pi, symbols, Symbol\n",
    "from sympy.physics.mechanics import dynamicsymbols, mechanics_printing, Point, ReferenceFrame, \\\n",
    "    RigidBody, inertia, KanesMethod\n",
    "from function import PythonFunction\n",
    "from function import CppFunction\n",
    "from function import JuliaFunction"
   ]
  },
  {
   "cell_type": "code",
   "execution_count": 2,
   "id": "f7f5c3f8-bca4-45ad-a528-605d9b753082",
   "metadata": {},
   "outputs": [],
   "source": [
    "mechanics_printing(pretty_print=True)"
   ]
  },
  {
   "cell_type": "markdown",
   "id": "241941e8-594c-462e-82f7-cccad83705a8",
   "metadata": {},
   "source": [
    "Select file type for function generation, if True generate function for Python, else generate for C++"
   ]
  },
  {
   "cell_type": "code",
   "execution_count": 3,
   "id": "6ccf449a-af54-4582-81d3-14cc36f548d5",
   "metadata": {},
   "outputs": [],
   "source": [
    "generate_output_file_for_python = False\n",
    "generate_output_file_for_cpp = True\n",
    "generate_output_file_for_julia = False\n",
    "\n",
    "Path(os.path.join('.', 'src')).mkdir(exist_ok=True)\n",
    "\n",
    "if generate_output_file_for_python:\n",
    "    # Output folder\n",
    "    src_folder_path_python = os.path.join('.', 'src', 'python')\n",
    "    Path(src_folder_path_python).mkdir(exist_ok=True)\n",
    "\n",
    "if generate_output_file_for_cpp:\n",
    "    # Output folder\n",
    "    src_folder_path_cpp = os.path.join('.', 'src', 'cpp')\n",
    "    Path(src_folder_path_cpp).mkdir(exist_ok=True)\n",
    "\n",
    "if generate_output_file_for_julia:\n",
    "    # Output folder\n",
    "    src_folder_path_julia = os.path.join('.', 'src', 'julia')\n",
    "    Path(src_folder_path_julia).mkdir(exist_ok=True)"
   ]
  },
  {
   "cell_type": "markdown",
   "id": "37b7df14-a4e4-433f-9c2f-7c8937a3ebae",
   "metadata": {},
   "source": [
    "Set to ```True``` if using Robotiq 2f-85 gripper at the end-effector, ```False``` otherwise"
   ]
  },
  {
   "cell_type": "code",
   "execution_count": 4,
   "id": "aa1ec8f1-761d-4abe-9fe0-277d977d5cbb",
   "metadata": {},
   "outputs": [],
   "source": [
    "gripper = False"
   ]
  },
  {
   "cell_type": "markdown",
   "id": "b5b804ca-5903-4f5d-8984-4bf49d83fdf9",
   "metadata": {},
   "source": [
    "Define kinematic variables for the analysis. For $i\\in[1, 7]$, $q_i$ are joint positions, $q_{i}p$ are joint velocities, $u_i$ and $u_{i}p$ are generalized speeds and their derivatives."
   ]
  },
  {
   "cell_type": "code",
   "execution_count": 5,
   "id": "89347395-c4a2-4a76-ab8f-eb48970e590b",
   "metadata": {},
   "outputs": [],
   "source": [
    "q1, q2, q3, q4, q5, q6, q7 = dynamicsymbols(\"q1 q2 q3 q4 q5 q6 q7\")\n",
    "q1p, q2p, q3p, q4p, q5p, q6p, q7p = dynamicsymbols(\"q1 q2 q3 q4 q5 q6 q7\", 1)\n",
    "u1, u2, u3, u4, u5, u6, u7 = dynamicsymbols(\"u1 u2 u3 u4 u5 u6 u7\")\n",
    "u1p, u2p, u3p, u4p, u5p, u6p, u7p = dynamicsymbols(\"u1 u2 u3 u4 u5 u6 u7\", 1)"
   ]
  },
  {
   "cell_type": "code",
   "execution_count": 6,
   "id": "0734821a-25c2-413e-9b26-1ad2e5bf6495",
   "metadata": {},
   "outputs": [],
   "source": [
    "# Lists of generalized coordinates and speeds\n",
    "q = [q1, q2, q3, q4, q5, q6, q7]\n",
    "qp = [q1p, q2p, q3p, q4p, q5p, q6p, q7p]\n",
    "u = [u1, u2, u3, u4, u5, u6, u7]"
   ]
  },
  {
   "cell_type": "markdown",
   "id": "56cf6c69-0143-44de-b83c-9d146ed00c7d",
   "metadata": {},
   "source": [
    "Define the joint torques"
   ]
  },
  {
   "cell_type": "code",
   "execution_count": 7,
   "id": "eff2a212-22eb-4dbf-bc9f-498bfc377394",
   "metadata": {},
   "outputs": [],
   "source": [
    "TA, TB, TC, TD, TE, TF, TG = symbols(\"TA TB TC TD TE TF TG\")"
   ]
  },
  {
   "cell_type": "markdown",
   "id": "71cb03dc-bbd7-45e6-900e-4a4beacd3105",
   "metadata": {},
   "source": [
    "Define the external forces and moments acting on the end-effector of the robot"
   ]
  },
  {
   "cell_type": "code",
   "execution_count": 8,
   "id": "5b1aa9e1-a813-4867-a2a9-3f3f9a40fd85",
   "metadata": {},
   "outputs": [],
   "source": [
    "# Forces and moments acting on the end-effector\n",
    "Fx, Fy, Fz = symbols('Fx Fy Fz')\n",
    "Mx, My, Mz = symbols('Mx My Mz')"
   ]
  },
  {
   "cell_type": "markdown",
   "id": "a6f0f401-181d-4ab8-a8a3-4e84353ed158",
   "metadata": {},
   "source": [
    "Gravitational constant is g"
   ]
  },
  {
   "cell_type": "code",
   "execution_count": 9,
   "id": "36ee69d2-f827-4394-8fbd-2b863cc52496",
   "metadata": {},
   "outputs": [],
   "source": [
    "g = symbols('g')"
   ]
  },
  {
   "cell_type": "markdown",
   "id": "ba33be83-ab05-4af4-ba59-13a766bf9e88",
   "metadata": {},
   "source": [
    "Create dummy variables for prettier printing of kinematic and dynamic equations"
   ]
  },
  {
   "cell_type": "code",
   "execution_count": 10,
   "id": "1a3c19dc-2ca9-4e02-8f89-419259b12fa4",
   "metadata": {},
   "outputs": [],
   "source": [
    "dummy_dict = dict(zip(q + qp + u,\n",
    "                      [\"q1\", \"q2\", \"q3\", \"q4\", \"q5\", \"q6\", \"q7\"] +\n",
    "                      [\"qp1\", \"qp2\", \"qp3\", \"qp4\", \"qp5\", \"qp6\", \"qp7\"] +\n",
    "                      [\"u1\", \"u2\", \"u3\", \"u4\", \"u5\", \"u6\", \"u7\"]))"
   ]
  },
  {
   "cell_type": "markdown",
   "id": "a877c430-4e71-4560-a497-e141e9577d4b",
   "metadata": {},
   "source": [
    "Define the reference frames where **N** is the Newtonian reference frame and **A**, **B**, **C**, **D**, **E**, **F**, **G** are the reference frames assigned to each link. **H** is the last reference frame attached to the end-effector. It is also used as the reference frame of the gripper if it is used."
   ]
  },
  {
   "cell_type": "code",
   "execution_count": 11,
   "id": "2986dfd3-1900-41e1-a3ca-5e18b2ae4e1f",
   "metadata": {},
   "outputs": [],
   "source": [
    "N = ReferenceFrame(\"N\")\n",
    "A = N.orientnew(\"A\", \"Body\", [pi, 0, q1], \"123\")\n",
    "B = A.orientnew(\"B\", \"Body\", [pi / 2, 0, q2], \"123\")\n",
    "C = B.orientnew(\"C\", \"Body\", [-pi / 2, 0, q3], \"123\")\n",
    "D = C.orientnew(\"D\", \"Body\", [pi / 2, 0, q4], \"123\")\n",
    "E = D.orientnew(\"E\", \"Body\", [-pi / 2, 0, q5], \"123\")\n",
    "F = E.orientnew(\"F\", \"Body\", [pi / 2, 0, q6], \"123\")\n",
    "G = F.orientnew(\"G\", \"Body\", [-pi / 2, 0, q7], \"123\")\n",
    "H = G.orientnew(\"H\", \"Body\", [pi, 0, 0], \"123\")"
   ]
  },
  {
   "cell_type": "markdown",
   "id": "f12700e7-2c20-4406-a105-a3be45102914",
   "metadata": {},
   "source": [
    "## Kinematic Analysis"
   ]
  },
  {
   "cell_type": "markdown",
   "id": "78f868d0-de5a-4d33-a3a8-f71a4928fccf",
   "metadata": {},
   "source": [
    "### Position-level kinematics"
   ]
  },
  {
   "cell_type": "markdown",
   "id": "4ff5c6ef-3b6c-4e10-83f7-04e85c86a5e4",
   "metadata": {},
   "source": [
    "Define the kinematic structure by assigning stationary points for each reference frame.\n",
    "\n",
    "- *O* is fixed in **N**.\n",
    "- *$P_1$* is fixed in **A**.\n",
    "- *$P_2$* is fixed in **B**.\n",
    "- *$P_3$* is fixed in **C**.\n",
    "- *$P_4$* is fixed in **D**.\n",
    "- *$P_5$* is fixed in **E**.\n",
    "- *$P_6$* is fixed in **F**.\n",
    "- *$P_7$* is fixed in **G**.\n",
    "- *$P_8$* is fixed in **H**.\n",
    "- *$P_9$* is fixed in **H**."
   ]
  },
  {
   "cell_type": "code",
   "execution_count": 12,
   "id": "6266f0de-97a5-48ff-9d9a-0862d7806c23",
   "metadata": {},
   "outputs": [],
   "source": [
    "P0 = Point(\"O\")\n",
    "P1 = P0.locatenew(\"P1\", 0.15643 * N.z)\n",
    "P2 = P1.locatenew(\"P2\", 0.005375 * A.y - 0.12838 * A.z)\n",
    "P3 = P2.locatenew(\"P3\", -0.21038 * B.y - 0.006375 * B.z)\n",
    "P4 = P3.locatenew(\"P4\", 0.006375 * C.y - 0.21038 * C.z)\n",
    "P5 = P4.locatenew(\"P5\", -0.20843 * D.y - 0.006375 * D.z)\n",
    "P6 = P5.locatenew(\"P6\", 0.00017505 * E.y - 0.10593 * E.z)\n",
    "P7 = P6.locatenew(\"P7\", -0.10593 * F.y - 0.00017505 * F.z)\n",
    "P8 = P7.locatenew(\"P8\", -0.0615 * G.z)\n",
    "\n",
    "if gripper:\n",
    "    P9 = P8.locatenew(\"P9\", 0.12 * H.z)"
   ]
  },
  {
   "cell_type": "markdown",
   "id": "f321a62e-36ec-4943-8462-2cb962be5f5d",
   "metadata": {},
   "source": [
    "Define the location of mass centres for each link.\n",
    "\n",
    "- *$A_o$* is the mass center for body <u>A</u> defined in reference frame **A**.\n",
    "- *$B_o$* is the mass center for body <u>B</u> defined in reference frame **B**.\n",
    "- *$C_o$* is the mass center for body <u>C</u> defined in reference frame **C**.\n",
    "- *$D_o$* is the mass center for body <u>D</u> defined in reference frame **D**.\n",
    "- *$E_o$* is the mass center for body <u>E</u> defined in reference frame **E**.\n",
    "- *$F_o$* is the mass center for body <u>F</u> defined in reference frame **F**.\n",
    "- *$G_o$* is the mass center for body <u>G</u> defined in reference frame **G**.\n",
    "- *$H_o$* is the mass center for body <u>H</u>, the gripper, defined in reference frame **H**."
   ]
  },
  {
   "cell_type": "code",
   "execution_count": 13,
   "id": "b919fa70-21c1-497a-b013-d9c289d4f4ae",
   "metadata": {},
   "outputs": [],
   "source": [
    "Ao = P1.locatenew(\"Ao\", -0.000023 * A.x - 0.010364 * A.y - 0.073360 * A.z)\n",
    "Bo = P2.locatenew(\"Bo\", -0.000044 * B.x - 0.099580 * B.y - 0.013278 * B.z)\n",
    "Co = P3.locatenew(\"Co\", -0.000044 * C.x - 0.006641 * C.y - 0.117892 * C.z)\n",
    "Do = P4.locatenew(\"Do\", -0.000018 * D.x - 0.075478 * D.y - 0.015006 * D.z)\n",
    "Eo = P5.locatenew(\"Eo\", 0.000001 * E.x - 0.009432 * E.y - 0.063883 * E.z)\n",
    "Fo = P6.locatenew(\"Fo\", 0.000001 * F.x - 0.045483 * F.y - 0.009650 * F.z)\n",
    "Go = P7.locatenew(\"Go\", -0.000281 * G.x - 0.011402 * G.y - 0.029798 * G.z)\n",
    "\n",
    "if gripper:\n",
    "    Ho = P8.locatenew(\"Ho\", 0.058 * H.z)"
   ]
  },
  {
   "cell_type": "markdown",
   "id": "19763cff-bc5d-47ca-9f21-13eba7a8d132",
   "metadata": {},
   "source": [
    "Calculate the end-effector position and orientation of the robot."
   ]
  },
  {
   "cell_type": "code",
   "execution_count": 14,
   "id": "2c378ee5-0f10-4336-a05a-104abb192cc8",
   "metadata": {},
   "outputs": [],
   "source": [
    "x = P9.pos_from(P0).express(N).subs(dummy_dict).to_matrix(N) if gripper \\\n",
    "        else P8.pos_from(P0).express(N).subs(dummy_dict).to_matrix(N)\n",
    "\n",
    "R = N.dcm(H).subs(dummy_dict)"
   ]
  },
  {
   "cell_type": "markdown",
   "id": "3114c160-8a8c-409e-acf6-98fa9c084ec9",
   "metadata": {},
   "source": [
    "Print end-effector position and rotation functions"
   ]
  },
  {
   "cell_type": "markdown",
   "id": "17214e5a-c003-4f49-ba06-aeb589075168",
   "metadata": {},
   "source": [
    "### Velocity-level kinematics"
   ]
  },
  {
   "cell_type": "markdown",
   "id": "2efc87b7-81e4-49f8-977a-7c8f6173bceb",
   "metadata": {},
   "source": [
    "Calculate the valocities of the points defined in the position-level kinematics."
   ]
  },
  {
   "cell_type": "code",
   "execution_count": 15,
   "id": "3e49a76a-62d8-46f8-9c18-c720a42848ac",
   "metadata": {},
   "outputs": [],
   "source": [
    "P0.set_vel(N, 0 * N.x + 0 * N.y + 0 * N.z)\n",
    "P1.v2pt_theory(P0, N, N)\n",
    "P2.v2pt_theory(P1, N, A)\n",
    "P3.v2pt_theory(P2, N, B)\n",
    "P4.v2pt_theory(P3, N, C)\n",
    "P5.v2pt_theory(P4, N, D)\n",
    "P6.v2pt_theory(P5, N, E)\n",
    "P7.v2pt_theory(P6, N, F)\n",
    "P8.v2pt_theory(P7, N, G)\n",
    "\n",
    "if gripper:\n",
    "    P9.v2pt_theory(P8, N, H)\n",
    "\n",
    "Ao.v2pt_theory(P1, N, A)\n",
    "Bo.v2pt_theory(P2, N, B)\n",
    "Co.v2pt_theory(P3, N, C)\n",
    "Do.v2pt_theory(P4, N, D)\n",
    "Eo.v2pt_theory(P5, N, E)\n",
    "Fo.v2pt_theory(P6, N, F)\n",
    "Go.v2pt_theory(P7, N, G)\n",
    "\n",
    "if gripper:\n",
    "    Ho.v2pt_theory(P8, N, H)"
   ]
  },
  {
   "cell_type": "markdown",
   "id": "4ef2f08e-9abb-4db3-bef4-df6296e465bf",
   "metadata": {},
   "source": [
    "Define the kinematic differential equations."
   ]
  },
  {
   "cell_type": "code",
   "execution_count": 16,
   "id": "c0dba4ad-cab7-4c87-b6aa-94f0b994e9a4",
   "metadata": {},
   "outputs": [],
   "source": [
    "kd = [qp_i - u_i for (qp_i, u_i) in zip(qp, u)]"
   ]
  },
  {
   "cell_type": "markdown",
   "id": "98c4018d-82fd-47e7-b7ba-c9f3ea38fe5f",
   "metadata": {},
   "source": [
    "Calculate the translational and the rotational part of the Jacobian."
   ]
  },
  {
   "cell_type": "code",
   "execution_count": 17,
   "id": "a5999193",
   "metadata": {},
   "outputs": [],
   "source": [
    "Jt = Matrix([P9.pos_from(P0).dot(N.x),\n",
    "             P9.pos_from(P0).dot(N.y),\n",
    "             P9.pos_from(P0).dot(N.z)])\\\n",
    "        .jacobian(Matrix([q1, q2, q3, q4, q5, q6, q7])) if gripper \\\n",
    "        else Matrix([P8.pos_from(P0).dot(N.x),\n",
    "                     P8.pos_from(P0).dot(N.y),\n",
    "                     P8.pos_from(P0).dot(N.z)])\\\n",
    "        .jacobian(Matrix([q1, q2, q3, q4, q5, q6, q7]))\n",
    "\n",
    "Jr = Matrix(\n",
    "            [\n",
    "                [\n",
    "                    H.ang_vel_in(N).to_matrix(N)[0].coeff(q1p).trigsimp(),\n",
    "                    H.ang_vel_in(N).to_matrix(N)[0].coeff(q2p).trigsimp(),\n",
    "                    H.ang_vel_in(N).to_matrix(N)[0].coeff(q3p).trigsimp(),\n",
    "                    H.ang_vel_in(N).to_matrix(N)[0].coeff(q4p).trigsimp(),\n",
    "                    H.ang_vel_in(N).to_matrix(N)[0].coeff(q5p).trigsimp(),\n",
    "                    H.ang_vel_in(N).to_matrix(N)[0].coeff(q6p).trigsimp(),\n",
    "                    H.ang_vel_in(N).to_matrix(N)[0].coeff(q7p).trigsimp(),\n",
    "                ],\n",
    "                [\n",
    "                    H.ang_vel_in(N).to_matrix(N)[1].coeff(q1p).trigsimp(),\n",
    "                    H.ang_vel_in(N).to_matrix(N)[1].coeff(q2p).trigsimp(),\n",
    "                    H.ang_vel_in(N).to_matrix(N)[1].coeff(q3p).trigsimp(),\n",
    "                    H.ang_vel_in(N).to_matrix(N)[1].coeff(q4p).trigsimp(),\n",
    "                    H.ang_vel_in(N).to_matrix(N)[1].coeff(q5p).trigsimp(),\n",
    "                    H.ang_vel_in(N).to_matrix(N)[1].coeff(q6p).trigsimp(),\n",
    "                    H.ang_vel_in(N).to_matrix(N)[1].coeff(q7p).trigsimp(),\n",
    "                ],\n",
    "                [\n",
    "                    H.ang_vel_in(N).to_matrix(N)[2].coeff(q1p).trigsimp(),\n",
    "                    H.ang_vel_in(N).to_matrix(N)[2].coeff(q2p).trigsimp(),\n",
    "                    H.ang_vel_in(N).to_matrix(N)[2].coeff(q3p).trigsimp(),\n",
    "                    H.ang_vel_in(N).to_matrix(N)[2].coeff(q4p).trigsimp(),\n",
    "                    H.ang_vel_in(N).to_matrix(N)[2].coeff(q5p).trigsimp(),\n",
    "                    H.ang_vel_in(N).to_matrix(N)[2].coeff(q6p).trigsimp(),\n",
    "                    H.ang_vel_in(N).to_matrix(N)[2].coeff(q7p).trigsimp(),\n",
    "                ],\n",
    "            ]\n",
    "           )\n",
    "\n",
    "J = Jt.col_join(Jr)\n",
    "J_dot = J.diff()\n",
    "J_subs = J.subs(dummy_dict)\n",
    "J_dot_subs = J_dot.subs(dummy_dict)"
   ]
  },
  {
   "cell_type": "markdown",
   "id": "663da338-e69b-4c43-93bb-9e89d3dce3ec",
   "metadata": {},
   "source": [
    "## Dynamic Analysis"
   ]
  },
  {
   "cell_type": "markdown",
   "id": "c8ad1603-2084-4c7b-ac47-8b133b9fb17d",
   "metadata": {},
   "source": [
    "Define the masses of the links and the gripper\n",
    "\n",
    "- $m_A$ is the mass of the body **A**\n",
    "- $m_B$ is the mass of the body **B**\n",
    "- $m_C$ is the mass of the body **C**\n",
    "- $m_D$ is the mass of the body **D**\n",
    "- $m_E$ is the mass of the body **E**\n",
    "- $m_F$ is the mass of the body **F**\n",
    "- $m_G$ is the mass of the body **G**\n",
    "- $m_H$ is the mass of the gripper, aka body **H**"
   ]
  },
  {
   "cell_type": "code",
   "execution_count": 18,
   "id": "273f2b2a-29ff-49be-aa28-efc84f01d511",
   "metadata": {},
   "outputs": [],
   "source": [
    "mass_A = 1.3773\n",
    "mass_B = 1.1636\n",
    "mass_C = 1.1636\n",
    "mass_D = 0.9302\n",
    "mass_E = 0.6781\n",
    "mass_F = 0.6781\n",
    "mass_G = 0.5006\n",
    "\n",
    "if gripper:\n",
    "    mass_H = 0.925"
   ]
  },
  {
   "cell_type": "markdown",
   "id": "b31df41b-854e-4fcb-ac51-d9a1950bfd36",
   "metadata": {},
   "source": [
    "Define the principal inertia for each body with respect to the body's center of mass"
   ]
  },
  {
   "cell_type": "code",
   "execution_count": 19,
   "id": "f50be1d1-ef1b-4798-a5ef-be00d48b2331",
   "metadata": {},
   "outputs": [],
   "source": [
    "inertia_A = inertia(A, 0.004570, 0.004831, 0.001409, 0.000001, 0.000448, 0.000002)\n",
    "inertia_B = inertia(B, 0.011088, 0.001072, 0.011255, 0.000005, -0.000691, 0.000000)\n",
    "inertia_C = inertia(C, 0.010932, 0.011127, 0.001043, 0.000000, 0.000606, -0.000007)\n",
    "inertia_D = inertia(D, 0.008147, 0.000631, 0.008316, -0.000001, -0.000500, 0.000000)\n",
    "inertia_E = inertia(E, 0.001596, 0.001607, 0.000399, 0.000000, 0.000256, 0.000000)\n",
    "inertia_F = inertia(F, 0.001641, 0.000410, 0.001641, 0.000000, -0.000278, 0.000000)\n",
    "inertia_G = inertia(G, 0.000587, 0.000369, 0.000609, 0.000003, 0.000118, 0.000003)\n",
    "\n",
    "# Inertia of the gripper\n",
    "if gripper:\n",
    "    inertia_H = inertia(H, 4180e-6, 5080e-6, 1250e-6)"
   ]
  },
  {
   "cell_type": "markdown",
   "id": "43ca56cf-5ff6-42b3-9108-a93c10e53e9d",
   "metadata": {},
   "source": [
    "Define the rigid bodies for the dynamic analysis"
   ]
  },
  {
   "cell_type": "code",
   "execution_count": 20,
   "id": "fdf7661c-23a5-467b-be7e-c250fd153beb",
   "metadata": {},
   "outputs": [],
   "source": [
    "body_A = RigidBody('body_A', Ao, A, mass_A, (inertia_A, Ao))\n",
    "body_B = RigidBody('body_B', Bo, B, mass_B, (inertia_B, Bo))\n",
    "body_C = RigidBody('body_C', Co, C, mass_C, (inertia_C, Co))\n",
    "body_D = RigidBody('body_D', Do, D, mass_D, (inertia_D, Do))\n",
    "body_E = RigidBody('body_E', Eo, E, mass_E, (inertia_E, Eo))\n",
    "body_F = RigidBody('body_F', Fo, F, mass_F, (inertia_F, Fo))\n",
    "body_G = RigidBody('body_G', Go, G, mass_G, (inertia_G, Go))\n",
    "\n",
    "if gripper:\n",
    "    body_H = RigidBody('body_H', Ho, H, mass_H, (inertia_H, Ho))\n",
    "\n",
    "body_list = [body_A, body_B, body_C, body_D, body_E, body_F, body_G, body_H] if gripper else [body_A, body_B, body_C, body_D, body_E, body_F, body_G]"
   ]
  },
  {
   "cell_type": "markdown",
   "id": "409a6abc-2d0c-44e2-ae46-aefb57c7b93b",
   "metadata": {},
   "source": [
    "Define the forces acting on the rigid bodies."
   ]
  },
  {
   "cell_type": "code",
   "execution_count": 21,
   "id": "9f63c702-cc9e-46f2-8935-c6a33448c281",
   "metadata": {},
   "outputs": [],
   "source": [
    "force_list = [(Ao, -mass_A * g * N.z),\n",
    "              (Bo, -mass_B * g * N.z),\n",
    "              (Co, -mass_C * g * N.z),\n",
    "              (Do, -mass_D * g * N.z),\n",
    "              (Eo, -mass_E * g * N.z),\n",
    "              (Fo, -mass_F * g * N.z),\n",
    "              (Go, -mass_G * g * N.z),\n",
    "              (Ho, -mass_H * g * N.z),\n",
    "              (A, TA * A.z),\n",
    "              (B, TB * B.z),\n",
    "              (C, TC * C.z),\n",
    "              (D, TD * D.z),\n",
    "              (E, TE * E.z),\n",
    "              (F, TF * F.z),\n",
    "              (G, TG * G.z),\n",
    "              (P9, Fx * N.x + Fy * N.y + Fz * N.z)] if gripper \\\n",
    "        else [(Ao, -mass_A * g * N.z),\n",
    "              (Bo, -mass_B * g * N.z),\n",
    "              (Co, -mass_C * g * N.z),\n",
    "              (Do, -mass_D * g * N.z),\n",
    "              (Eo, -mass_E * g * N.z),\n",
    "              (Fo, -mass_F * g * N.z),\n",
    "              (Go, -mass_G * g * N.z),\n",
    "              (A, TA * A.z),\n",
    "              (B, TB * B.z),\n",
    "              (C, TC * C.z),\n",
    "              (D, TD * D.z),\n",
    "              (E, TE * E.z),\n",
    "              (F, TF * F.z),\n",
    "              (G, TG * G.z),\n",
    "              (P8, Fx * N.x + Fy * N.y + Fz * N.z)]"
   ]
  },
  {
   "cell_type": "markdown",
   "id": "748860d6-869a-4341-ade0-b26840fd66ca",
   "metadata": {},
   "source": [
    "Use Kane's method to solve for the equations of motion."
   ]
  },
  {
   "cell_type": "code",
   "execution_count": 22,
   "id": "31fe8ba6-e94b-4ed7-bb24-c1aa72d86f18",
   "metadata": {},
   "outputs": [],
   "source": [
    "KM = KanesMethod(N, q_ind=q, u_ind=u, kd_eqs=kd)\n",
    "\n",
    "(fr, frstar) = KM.kanes_equations(body_list, force_list)"
   ]
  },
  {
   "cell_type": "markdown",
   "id": "6937dd83-8f22-435d-bdfd-b818efe93d39",
   "metadata": {},
   "source": [
    "Get the mass matrix of the robot"
   ]
  },
  {
   "cell_type": "code",
   "execution_count": 23,
   "id": "94f2c438-77cd-42bf-894d-8525a522e8be",
   "metadata": {},
   "outputs": [],
   "source": [
    "M = KM.mass_matrix.subs(dummy_dict)"
   ]
  },
  {
   "cell_type": "markdown",
   "id": "791c962d-8542-45a5-ba3a-6773dc8f4ed3",
   "metadata": {},
   "source": [
    "Coriolis and gravity terms"
   ]
  },
  {
   "cell_type": "code",
   "execution_count": 24,
   "id": "1a39a213-3606-4544-85cd-b2ae4c9da512",
   "metadata": {},
   "outputs": [],
   "source": [
    "forcing = -KM.forcing.subs(dummy_dict)"
   ]
  },
  {
   "cell_type": "code",
   "execution_count": 25,
   "id": "57e5585d-bad5-482d-bdfa-b1e5f81f88d8",
   "metadata": {},
   "outputs": [],
   "source": [
    "# Gravity term\n",
    "G = Matrix([forcing[0].coeff(g) * g,\n",
    "            forcing[1].coeff(g) * g,\n",
    "            forcing[2].coeff(g) * g,\n",
    "            forcing[3].coeff(g) * g,\n",
    "            forcing[4].coeff(g) * g,\n",
    "            forcing[5].coeff(g) * g,\n",
    "            forcing[6].coeff(g) * g])\n",
    "\n",
    "# Coriolis term\n",
    "C = forcing.subs({TA: 0, TB: 0, TC: 0, TD: 0, TE: 0, TF: 0, TG: 0, g: 0,\n",
    "                  Fx: 0, Fy: 0, Fz: 0})"
   ]
  },
  {
   "cell_type": "markdown",
   "id": "dd73039e-e827-46d7-a655-c3cd6f0a7a34",
   "metadata": {},
   "source": [
    "## Printing"
   ]
  },
  {
   "cell_type": "markdown",
   "id": "f0d929c0-7fd7-47c2-8fed-04e9aa93d9f5",
   "metadata": {},
   "source": [
    "### Kinematics functions"
   ]
  },
  {
   "cell_type": "markdown",
   "id": "3c951c0f-6afe-46e4-a24e-65f587193b14",
   "metadata": {},
   "source": [
    "Print forward kinematics $\\phi(q)$"
   ]
  },
  {
   "cell_type": "code",
   "execution_count": 26,
   "id": "6edcc76e-c843-4d2b-9413-a137eac81412",
   "metadata": {},
   "outputs": [],
   "source": [
    "if generate_output_file_for_python:\n",
    "    forward_kinematics_printer = PythonFunction('forward_kinematics', src_folder_path_python, ['q'], ['x', 'R'], [x, R])\n",
    "    forward_kinematics_printer.print()"
   ]
  },
  {
   "cell_type": "code",
   "execution_count": 27,
   "id": "9e501c03-3268-48a2-b018-2437044b282c",
   "metadata": {},
   "outputs": [
    {
     "name": "stdout",
     "output_type": "stream",
     "text": [
      "Printing the function: forwardKinematics\n"
     ]
    }
   ],
   "source": [
    "if generate_output_file_for_cpp:\n",
    "    forward_kinematics_printer_cpp = CppFunction('forwardKinematics', src_folder_path_cpp, {'q':'Eigen::Vector<double, 7>'}, {'T': 'Eigen::Transform<double, 3, Eigen::Affine>'}, {'x': 'Eigen::Vector<double, 3>', 'R': 'Eigen::Matrix<double, 3, 3>'}, [x, R])\n",
    "    forward_kinematics_printer_cpp.print()"
   ]
  },
  {
   "cell_type": "code",
   "execution_count": 28,
   "id": "e6210302",
   "metadata": {},
   "outputs": [],
   "source": [
    "if generate_output_file_for_julia:\n",
    "    forward_kinematics_printer_julia = JuliaFunction('forward_kinematics', src_folder_path_julia, {'q':'SVector{7, Float64}'}, {'x': 'SVector{3, Float64}', 'R': 'SMatrix{3, 3, Float64}'}, [x, R])\n",
    "    forward_kinematics_printer_julia.print()"
   ]
  },
  {
   "cell_type": "markdown",
   "id": "392f2b9c-41be-47be-aa87-fe0c0a738673",
   "metadata": {},
   "source": [
    "Print Jacobian and it derivative $J(q)$, $\\dot{J}(q, \\dot{q})$ "
   ]
  },
  {
   "cell_type": "code",
   "execution_count": 29,
   "id": "e0521eaf-8938-4bf8-bc9f-e69009e4c7ed",
   "metadata": {},
   "outputs": [],
   "source": [
    "if generate_output_file_for_python:\n",
    "    jacobian_printer = PythonFunction('jacobian', src_folder_path_python, ['q'], ['J'], J_subs)\n",
    "    jacobian_dot_printer = PythonFunction('jacobian_dot', src_folder_path_python, ['q', 'qp'], ['Jdot'], J_dot_subs)\n",
    "    jacobian_printer.print()\n",
    "    jacobian_dot_printer.print()"
   ]
  },
  {
   "cell_type": "code",
   "execution_count": 30,
   "id": "b9a1932a-0a89-4fd2-a23a-e9115755d007",
   "metadata": {},
   "outputs": [
    {
     "name": "stdout",
     "output_type": "stream",
     "text": [
      "Printing the function: jacobian\n",
      "Printing the function: jacobian_dot\n"
     ]
    }
   ],
   "source": [
    "if generate_output_file_for_cpp:\n",
    "    jacobian_printer_cpp = CppFunction('jacobian', src_folder_path_cpp, {'q':'Eigen::Vector<double, 7>'}, {'J': 'Eigen::Matrix<double, 6, 7>'}, set(), J_subs)\n",
    "    jacobian_dot_printer_cpp = CppFunction('jacobian_dot', src_folder_path_cpp, {'q':'Eigen::Vector<double, 7>', 'qp':'Eigen::Vector<double, 7>'}, {'Jdot': 'Eigen::Matrix<double, 6, 7>'}, set(), J_dot_subs)\n",
    "    jacobian_printer_cpp.print()\n",
    "    jacobian_dot_printer_cpp.print()"
   ]
  },
  {
   "cell_type": "code",
   "execution_count": 31,
   "id": "bc8def17",
   "metadata": {},
   "outputs": [],
   "source": [
    "if generate_output_file_for_julia:\n",
    "    jacobian_printer_julia = JuliaFunction('jacobian', src_folder_path_julia, {'q':'SVector{7, Float64}'}, {'J': 'SMatrix{6, 7, Float64}>'}, J_subs)\n",
    "    jacobian_dot_printer_julia = JuliaFunction('jacobian_dot', src_folder_path_julia, {'q':'SVector{7, Float64}', 'qp':'SVector{7, Float64}'}, {'J_dot': 'SMatrix{6, 7, Float64}>'}, J_dot_subs)\n",
    "    jacobian_printer_julia.print()\n",
    "    jacobian_dot_printer_julia.print()"
   ]
  },
  {
   "cell_type": "markdown",
   "id": "dd32dd72-4459-410f-8899-c1d21a4844ef",
   "metadata": {},
   "source": [
    "### Dynamics functions"
   ]
  },
  {
   "cell_type": "markdown",
   "id": "b690161a-c485-4eae-be6f-dc15fa4d3a77",
   "metadata": {},
   "source": [
    "Print mass matrix $M(q)$"
   ]
  },
  {
   "cell_type": "code",
   "execution_count": 32,
   "id": "ef7cb12a-25bc-4bf9-aa01-d036f7d04bc3",
   "metadata": {},
   "outputs": [],
   "source": [
    "if generate_output_file_for_python:\n",
    "    mass_matrix_printer_py = PythonFunction('mass_matrix', src_folder_path_python, ['q'], ['M'], M)\n",
    "    mass_matrix_printer_py.print()"
   ]
  },
  {
   "cell_type": "code",
   "execution_count": 33,
   "id": "28da07b4-afc6-46fa-b935-aea9353143c4",
   "metadata": {},
   "outputs": [
    {
     "name": "stdout",
     "output_type": "stream",
     "text": [
      "Printing the function: mass_matrix\n"
     ]
    }
   ],
   "source": [
    "if generate_output_file_for_cpp:\n",
    "    mass_matrix_printer_cpp = CppFunction('mass_matrix', src_folder_path_cpp, {'q':'Eigen::Vector<double, 7>'}, {'M': 'Eigen::Matrix<double, 7, 7>'}, set(), M)\n",
    "    mass_matrix_printer_cpp.print()"
   ]
  },
  {
   "cell_type": "code",
   "execution_count": 34,
   "id": "2473473b",
   "metadata": {},
   "outputs": [],
   "source": [
    "if generate_output_file_for_julia:\n",
    "    mass_matrix_printer_julia = JuliaFunction('mass_matrix', src_folder_path_julia, {'q':'SVector{7, Float64}'}, {'M':'SMatrix{7, 7, Float64}'}, M)\n",
    "    mass_matrix_printer_julia.print()"
   ]
  },
  {
   "cell_type": "markdown",
   "id": "a28e7583-fae6-4970-99a0-4b42bd7a8b67",
   "metadata": {},
   "source": [
    "Print gravity term $g(q)$"
   ]
  },
  {
   "cell_type": "code",
   "execution_count": 35,
   "id": "f240954b-f93f-4f05-8bdf-07b4b55ed031",
   "metadata": {},
   "outputs": [],
   "source": [
    "if generate_output_file_for_python:\n",
    "    gravity_term_printer = PythonFunction('gravity', src_folder_path_python, ['q'], ['G'], G)\n",
    "    gravity_term_printer.print()"
   ]
  },
  {
   "cell_type": "code",
   "execution_count": 36,
   "id": "06d79bda",
   "metadata": {},
   "outputs": [
    {
     "name": "stdout",
     "output_type": "stream",
     "text": [
      "Printing the function: gravity\n"
     ]
    }
   ],
   "source": [
    "if generate_output_file_for_cpp:\n",
    "    gravity_term_printer_cpp = CppFunction('gravity', src_folder_path_cpp, {'q': 'Eigen::Vector<double, 7>'}, {'G': 'Eigen::Vector<double, 7>'}, set(), G)\n",
    "    gravity_term_printer_cpp.print()"
   ]
  },
  {
   "cell_type": "code",
   "execution_count": 37,
   "id": "67914f21-df56-4bf0-98d5-2befcd557a5b",
   "metadata": {},
   "outputs": [],
   "source": [
    "if generate_output_file_for_julia:\n",
    "    gravity_term_printer_julia = JuliaFunction('gravity', src_folder_path_julia, {'q':'SVector{7, Float64}'}, {'G':'SVector{7, Float64}'}, G)\n",
    "    gravity_term_printer_julia.print()"
   ]
  },
  {
   "cell_type": "markdown",
   "id": "b893168a-8866-49f0-9882-143d32d5a3fe",
   "metadata": {},
   "source": [
    "Print Coriolis term $C(q, \\dot{q})\\dot{q}$"
   ]
  },
  {
   "cell_type": "code",
   "execution_count": 38,
   "id": "f629c96f-7814-423b-ab1d-90840bb14d16",
   "metadata": {},
   "outputs": [],
   "source": [
    "if generate_output_file_for_python:\n",
    "    gravity_term_printer = PythonFunction('coriolis', src_folder_path_python, ['q', 'qp'], ['C'], C)\n",
    "    gravity_term_printer.print()"
   ]
  },
  {
   "cell_type": "code",
   "execution_count": 39,
   "id": "cacb1e7f",
   "metadata": {},
   "outputs": [
    {
     "name": "stdout",
     "output_type": "stream",
     "text": [
      "Printing the function: coriolis\n"
     ]
    }
   ],
   "source": [
    "if generate_output_file_for_cpp:\n",
    "    gravity_term_printer_julia = CppFunction('coriolis', src_folder_path_cpp, {'q': 'Eigen::Vector<double, 7>', 'qp': 'Eigen::Vector<double, 7>'}, {'C':'Eigen::Vector<double, 7>'}, set(), C)\n",
    "    gravity_term_printer_julia.print()"
   ]
  },
  {
   "cell_type": "code",
   "execution_count": 40,
   "id": "ce8df1c0-481e-4503-b0f3-471fa02b78c5",
   "metadata": {},
   "outputs": [],
   "source": [
    "if generate_output_file_for_julia:\n",
    "    gravity_term_printer_julia = JuliaFunction('coriolis', src_folder_path_julia, {'q': 'SVector{7, Float64}', 'qp': 'SVector{7, Float64}'}, {'C': 'SVector{7, Float64}'}, C)\n",
    "    gravity_term_printer_julia.print()"
   ]
  },
  {
   "cell_type": "code",
   "execution_count": null,
   "id": "0122638d-3e28-45bd-b63d-7f433f0e43d6",
   "metadata": {},
   "outputs": [],
   "source": []
  }
 ],
 "metadata": {
  "kernelspec": {
   "display_name": "Python 3 (ipykernel)",
   "language": "python",
   "name": "python3"
  },
  "language_info": {
   "codemirror_mode": {
    "name": "ipython",
    "version": 3
   },
   "file_extension": ".py",
   "mimetype": "text/x-python",
   "name": "python",
   "nbconvert_exporter": "python",
   "pygments_lexer": "ipython3",
   "version": "3.12.3"
  }
 },
 "nbformat": 4,
 "nbformat_minor": 5
}
